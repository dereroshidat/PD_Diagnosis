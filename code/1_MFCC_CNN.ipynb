{
 "cells": [
  {
   "cell_type": "markdown",
   "id": "651672aa",
   "metadata": {},
   "source": [
    "# Imports"
   ]
  },
  {
   "cell_type": "code",
   "execution_count": 75,
   "id": "885707c2",
   "metadata": {},
   "outputs": [],
   "source": [
    "import numpy as np\n",
    "import librosa\n",
    "import matplotlib.pyplot as plt\n",
    "from sklearn.model_selection import train_test_split\n",
    "\n",
    "import os\n",
    "import librosa.display\n",
    "\n",
    "\n",
    "import torch\n",
    "import torch.nn as nn\n",
    "import torch.optim as optim\n",
    "from torch.utils.data import DataLoader, TensorDataset\n",
    "\n",
    "from torchsummary import summary\n",
    "from tqdm import tqdm"
   ]
  },
  {
   "cell_type": "markdown",
   "id": "dfda0ce4",
   "metadata": {},
   "source": [
    "# Hyperparameters / Settings"
   ]
  },
  {
   "cell_type": "code",
   "execution_count": 58,
   "id": "7ad3c6ee",
   "metadata": {},
   "outputs": [],
   "source": [
    "sf = 8000\n",
    "batch_size = 4"
   ]
  },
  {
   "cell_type": "markdown",
   "id": "f85fbcaf",
   "metadata": {},
   "source": [
    "# Dataset Prep"
   ]
  },
  {
   "cell_type": "markdown",
   "id": "43a92ff4",
   "metadata": {},
   "source": [
    "## One data load"
   ]
  },
  {
   "cell_type": "code",
   "execution_count": 10,
   "id": "2191ff3b",
   "metadata": {},
   "outputs": [],
   "source": [
    "one_data = '/mnt/c/Users/user/Desktop/Roshidat/Workspace/PD_prediction/data/1_data/HC_AH/AH_064F_7AB034C9-72E4-438B-A9B3-AD7FDA1596C5.wav'\n",
    "data_one, _ = librosa.load(one_data, sr=sf)"
   ]
  },
  {
   "cell_type": "code",
   "execution_count": 8,
   "id": "f6261eaf",
   "metadata": {},
   "outputs": [
    {
     "data": {
      "text/plain": [
       "(29911,)"
      ]
     },
     "execution_count": 8,
     "metadata": {},
     "output_type": "execute_result"
    }
   ],
   "source": [
    "data_one.shape"
   ]
  },
  {
   "cell_type": "markdown",
   "id": "c105c2f2",
   "metadata": {},
   "source": [
    "## Load all HC data"
   ]
  },
  {
   "cell_type": "code",
   "execution_count": 16,
   "id": "d6b87955",
   "metadata": {},
   "outputs": [],
   "source": [
    "path = '/mnt/c/Users/user/Desktop/Roshidat/Workspace/PD_prediction/data/1_data/HC_AH'\n",
    "dirc = os.listdir(path)"
   ]
  },
  {
   "cell_type": "code",
   "execution_count": 17,
   "id": "9acf5a8f",
   "metadata": {},
   "outputs": [
    {
     "data": {
      "text/plain": [
       "(29911,)"
      ]
     },
     "execution_count": 17,
     "metadata": {},
     "output_type": "execute_result"
    }
   ],
   "source": [
    "file_path = os.path.join(path, dirc[0])\n",
    "loaded_file, _= librosa.load(file_path, sr=sf)\n",
    "loaded_file.shape"
   ]
  },
  {
   "cell_type": "code",
   "execution_count": 18,
   "id": "15362b3b",
   "metadata": {},
   "outputs": [],
   "source": [
    "hc_data = []\n",
    "for file in dirc:\n",
    "    file_path = os.path.join(path, file)\n",
    "    loaded_file, _ = librosa.load(file_path, sr=sf)\n",
    "    hc_data.append(loaded_file)"
   ]
  },
  {
   "cell_type": "code",
   "execution_count": 19,
   "id": "4f2df0bb",
   "metadata": {},
   "outputs": [
    {
     "data": {
      "text/plain": [
       "41"
      ]
     },
     "execution_count": 19,
     "metadata": {},
     "output_type": "execute_result"
    }
   ],
   "source": [
    "len(hc_data)"
   ]
  },
  {
   "cell_type": "code",
   "execution_count": 26,
   "id": "85de51e2",
   "metadata": {},
   "outputs": [],
   "source": [
    "\n",
    "\n",
    "# Find the maximum length among all arrays in hc_data\n",
    "max_len = max([arr.shape[0] for arr in hc_data])\n",
    "\n",
    "# Pad each array with zeros at the end to match max_len\n",
    "hc_data_padded = [np.pad(arr, (0, max_len - arr.shape[0]), mode='constant') for arr in hc_data]\n",
    "\n",
    "# Optionally, convert to a numpy array\n",
    "hc_data_padded = np.stack(hc_data_padded)"
   ]
  },
  {
   "cell_type": "code",
   "execution_count": 28,
   "id": "e5f53fbb",
   "metadata": {},
   "outputs": [
    {
     "data": {
      "text/plain": [
       "46109"
      ]
     },
     "execution_count": 28,
     "metadata": {},
     "output_type": "execute_result"
    }
   ],
   "source": [
    "max_len"
   ]
  },
  {
   "cell_type": "code",
   "execution_count": 31,
   "id": "1f06f268",
   "metadata": {},
   "outputs": [
    {
     "data": {
      "text/plain": [
       "(41, 46109)"
      ]
     },
     "execution_count": 31,
     "metadata": {},
     "output_type": "execute_result"
    }
   ],
   "source": [
    "hc_data_padded.shape"
   ]
  },
  {
   "cell_type": "code",
   "execution_count": 36,
   "id": "1895594a",
   "metadata": {},
   "outputs": [
    {
     "data": {
      "text/plain": [
       "(41, 40000)"
      ]
     },
     "execution_count": 36,
     "metadata": {},
     "output_type": "execute_result"
    }
   ],
   "source": [
    "hc_data_padded = hc_data_padded[:,:40000]\n",
    "hc_data_padded.shape"
   ]
  },
  {
   "cell_type": "code",
   "execution_count": 37,
   "id": "65e4b73f",
   "metadata": {},
   "outputs": [
    {
     "data": {
      "text/plain": [
       "array([0., 0., 0., 0., 0., 0., 0., 0., 0., 0., 0., 0., 0., 0., 0., 0., 0.,\n",
       "       0., 0., 0., 0., 0., 0., 0., 0., 0., 0., 0., 0., 0., 0., 0., 0., 0.,\n",
       "       0., 0., 0., 0., 0., 0., 0.])"
      ]
     },
     "execution_count": 37,
     "metadata": {},
     "output_type": "execute_result"
    }
   ],
   "source": [
    "y_hc = np.zeros(hc_data_padded.shape[0])  # Create an array of zeros with the same length as hc_data_padded\n",
    "y_hc"
   ]
  },
  {
   "cell_type": "markdown",
   "id": "9b20dbfd",
   "metadata": {},
   "source": [
    "## Load all PD data"
   ]
  },
  {
   "cell_type": "code",
   "execution_count": 20,
   "id": "c46bf96c",
   "metadata": {},
   "outputs": [],
   "source": [
    "pd_path = '/mnt/c/Users/user/Desktop/Roshidat/Workspace/PD_prediction/data/1_data/PD_AH'\n",
    "pd_dirc = os.listdir(pd_path)\n",
    "\n",
    "pd_data = []\n",
    "for file in pd_dirc:\n",
    "    file_path = os.path.join(pd_path, file)\n",
    "    loaded_file, _ = librosa.load(file_path, sr=sf)\n",
    "    pd_data.append(loaded_file)"
   ]
  },
  {
   "cell_type": "code",
   "execution_count": 22,
   "id": "cdfaa35c",
   "metadata": {},
   "outputs": [
    {
     "data": {
      "text/plain": [
       "40"
      ]
     },
     "execution_count": 22,
     "metadata": {},
     "output_type": "execute_result"
    }
   ],
   "source": [
    "len(pd_data)"
   ]
  },
  {
   "cell_type": "code",
   "execution_count": 33,
   "id": "d3c69ccc",
   "metadata": {},
   "outputs": [],
   "source": [
    "\n",
    "\n",
    "# Find the maximum length among all arrays in pd_data\n",
    "max_len = max([arr.shape[0] for arr in pd_data])\n",
    "\n",
    "# Pad each array with zeros at the end to match max_len\n",
    "pd_data_padded = [np.pad(arr, (0, max_len - arr.shape[0]), mode='constant') for arr in pd_data]\n",
    "\n",
    "# Optionally, convert to a numpy array\n",
    "pd_data_padded = np.stack(pd_data_padded)"
   ]
  },
  {
   "cell_type": "code",
   "execution_count": 34,
   "id": "d603448a",
   "metadata": {},
   "outputs": [
    {
     "data": {
      "text/plain": [
       "(40, 57664)"
      ]
     },
     "execution_count": 34,
     "metadata": {},
     "output_type": "execute_result"
    }
   ],
   "source": [
    "pd_data_padded.shape"
   ]
  },
  {
   "cell_type": "code",
   "execution_count": 38,
   "id": "7701182f",
   "metadata": {},
   "outputs": [
    {
     "data": {
      "text/plain": [
       "(40, 40000)"
      ]
     },
     "execution_count": 38,
     "metadata": {},
     "output_type": "execute_result"
    }
   ],
   "source": [
    "pd_data_padded = pd_data_padded[:,:40000]\n",
    "pd_data_padded.shape"
   ]
  },
  {
   "cell_type": "code",
   "execution_count": 35,
   "id": "cbe01dea",
   "metadata": {},
   "outputs": [
    {
     "data": {
      "text/plain": [
       "array([1., 1., 1., 1., 1., 1., 1., 1., 1., 1., 1., 1., 1., 1., 1., 1., 1.,\n",
       "       1., 1., 1., 1., 1., 1., 1., 1., 1., 1., 1., 1., 1., 1., 1., 1., 1.,\n",
       "       1., 1., 1., 1., 1., 1.])"
      ]
     },
     "execution_count": 35,
     "metadata": {},
     "output_type": "execute_result"
    }
   ],
   "source": [
    "y_pd = np.zeros(pd_data_padded.shape[0])+1  # Create an array of zeros with the same length as hc_data_padded\n",
    "y_pd"
   ]
  },
  {
   "cell_type": "markdown",
   "id": "443a04c2",
   "metadata": {},
   "source": [
    "## Concatenate"
   ]
  },
  {
   "cell_type": "code",
   "execution_count": 40,
   "id": "779e60a1",
   "metadata": {},
   "outputs": [],
   "source": [
    "X  =  np.concatenate((hc_data_padded, pd_data_padded), axis=0)\n",
    "y = np.concatenate((y_hc, y_pd), axis=0)"
   ]
  },
  {
   "cell_type": "code",
   "execution_count": 41,
   "id": "7a7ca94f",
   "metadata": {},
   "outputs": [
    {
     "data": {
      "text/plain": [
       "(81, 40000)"
      ]
     },
     "execution_count": 41,
     "metadata": {},
     "output_type": "execute_result"
    }
   ],
   "source": [
    "X.shape"
   ]
  },
  {
   "cell_type": "code",
   "execution_count": 45,
   "id": "d3f3fec3",
   "metadata": {},
   "outputs": [
    {
     "data": {
      "text/plain": [
       "array([0., 0., 0., 0., 0., 0., 0., 0., 0., 0., 0., 0., 0., 0., 0., 0., 0.,\n",
       "       0., 0., 0., 0., 0., 0., 0., 0., 0., 0., 0., 0., 0., 0., 0., 0., 0.,\n",
       "       0., 0., 0., 0., 0., 0., 0., 1.])"
      ]
     },
     "execution_count": 45,
     "metadata": {},
     "output_type": "execute_result"
    }
   ],
   "source": [
    "y[0:42]"
   ]
  },
  {
   "cell_type": "code",
   "execution_count": 46,
   "id": "6b1eeed1",
   "metadata": {},
   "outputs": [],
   "source": [
    "X_train, X_test, y_train, y_test = train_test_split(X, y, test_size=0.2, random_state=42, shuffle=True)"
   ]
  },
  {
   "cell_type": "code",
   "execution_count": 48,
   "id": "ff01c0aa",
   "metadata": {},
   "outputs": [
    {
     "data": {
      "text/plain": [
       "((64, 40000), (17, 40000), (64,), (17,))"
      ]
     },
     "execution_count": 48,
     "metadata": {},
     "output_type": "execute_result"
    }
   ],
   "source": [
    "X_train.shape, X_test.shape, y_train.shape, y_test.shape"
   ]
  },
  {
   "cell_type": "code",
   "execution_count": 50,
   "id": "e2fb0cd2",
   "metadata": {},
   "outputs": [
    {
     "data": {
      "text/plain": [
       "Text(0.5, 1.0, 'Count per Label in y_train')"
      ]
     },
     "execution_count": 50,
     "metadata": {},
     "output_type": "execute_result"
    },
    {
     "data": {
      "image/png": "[encoded data removed]",
      "text/plain": [
       "<Figure size 640x480 with 1 Axes>"
      ]
     },
     "metadata": {},
     "output_type": "display_data"
    }
   ],
   "source": [
    "\n",
    "\n",
    "# Plot the count per label in y_train\n",
    "unique, counts = np.unique(y_train, return_counts=True)\n",
    "plt.bar(unique, counts)\n",
    "plt.xlabel('Label')\n",
    "plt.ylabel('Count')\n",
    "plt.title('Count per Label in y_train')"
   ]
  },
  {
   "cell_type": "markdown",
   "id": "d4199b27",
   "metadata": {},
   "source": [
    "# Feature Extraction"
   ]
  },
  {
   "cell_type": "markdown",
   "id": "e97d6247",
   "metadata": {},
   "source": [
    "## MFCC from single file"
   ]
  },
  {
   "cell_type": "code",
   "execution_count": 24,
   "id": "339a0888",
   "metadata": {},
   "outputs": [
    {
     "data": {
      "image/png": "[encoded data removed]",
      "text/plain": [
       "<Figure size 1000x400 with 2 Axes>"
      ]
     },
     "metadata": {},
     "output_type": "display_data"
    }
   ],
   "source": [
    "mfccs = librosa.feature.mfcc(y=data_one, sr=sf, n_mfcc=13)\n",
    "\n",
    "# Display the MFCCs as an image\n",
    "plt.figure(figsize=(10, 4))\n",
    "librosa.display.specshow(mfccs, x_axis='time')\n",
    "plt.colorbar()\n",
    "plt.title('MFCC')\n",
    "plt.tight_layout()\n",
    "plt.show()\n",
    "# ...existing code..."
   ]
  },
  {
   "cell_type": "code",
   "execution_count": 25,
   "id": "4ea17e70",
   "metadata": {},
   "outputs": [
    {
     "data": {
      "text/plain": [
       "(13, 59)"
      ]
     },
     "execution_count": 25,
     "metadata": {},
     "output_type": "execute_result"
    }
   ],
   "source": [
    "mfccs.shape"
   ]
  },
  {
   "cell_type": "markdown",
   "id": "0b6635d5",
   "metadata": {},
   "source": [
    "## Data Extraction from Multiple data"
   ]
  },
  {
   "cell_type": "code",
   "execution_count": 53,
   "id": "89b7f456",
   "metadata": {},
   "outputs": [],
   "source": [
    "def get_mfcc(data, sample_rate, window):\n",
    "    mfccs_list = []\n",
    "    for dat in data:\n",
    "        mfccs = librosa.feature.mfcc(y=dat, sr=sample_rate, n_mfcc=window)\n",
    "        mfccs_list.append(mfccs)\n",
    "    return np.array(mfccs_list)"
   ]
  },
  {
   "cell_type": "code",
   "execution_count": 54,
   "id": "22451cd1",
   "metadata": {},
   "outputs": [],
   "source": [
    "X_train_mfcc = get_mfcc(X_train, sample_rate=sf, window=13)\n",
    "X_test_mfcc = get_mfcc(X_test, sample_rate=sf, window=13)"
   ]
  },
  {
   "cell_type": "code",
   "execution_count": 96,
   "id": "3040c080",
   "metadata": {},
   "outputs": [
    {
     "data": {
      "text/plain": [
       "((64, 13, 79), (17, 13, 79))"
      ]
     },
     "execution_count": 96,
     "metadata": {},
     "output_type": "execute_result"
    }
   ],
   "source": [
    "X_train_mfcc.shape, X_test_mfcc.shape"
   ]
  },
  {
   "cell_type": "code",
   "execution_count": 98,
   "id": "0b8f469a",
   "metadata": {},
   "outputs": [
    {
     "data": {
      "text/plain": [
       "(64, 1027)"
      ]
     },
     "execution_count": 98,
     "metadata": {},
     "output_type": "execute_result"
    }
   ],
   "source": [
    "X_train_mfcc.reshape(64,-1).shape"
   ]
  },
  {
   "cell_type": "code",
   "execution_count": 99,
   "id": "06eac269",
   "metadata": {},
   "outputs": [
    {
     "data": {
      "text/plain": [
       "1027"
      ]
     },
     "execution_count": 99,
     "metadata": {},
     "output_type": "execute_result"
    }
   ],
   "source": [
    "13*79"
   ]
  },
  {
   "cell_type": "code",
   "execution_count": 56,
   "id": "112e27a3",
   "metadata": {},
   "outputs": [
    {
     "data": {
      "text/plain": [
       "((64, 1, 13, 79), (17, 1, 13, 79))"
      ]
     },
     "execution_count": 56,
     "metadata": {},
     "output_type": "execute_result"
    }
   ],
   "source": [
    "X_train_mfcc_exp = np.expand_dims(X_train_mfcc, axis=1)\n",
    "X_test_mfcc_exp = np.expand_dims(X_test_mfcc, axis=1)\n",
    "\n",
    "X_train_mfcc_exp.shape, X_test_mfcc_exp.shape"
   ]
  },
  {
   "cell_type": "code",
   "execution_count": 60,
   "id": "c8fe47d2",
   "metadata": {},
   "outputs": [],
   "source": [
    "X_test_mfcc_exp = torch.tensor(X_test_mfcc_exp, dtype=torch.float32)\n",
    "y_test = torch.tensor(y_test, dtype=torch.long)\n",
    "\n",
    "X_train_mfcc_exp = torch.tensor(X_train_mfcc_exp, dtype=torch.float32)\n",
    "y_train = torch.tensor(y_train, dtype=torch.long)"
   ]
  },
  {
   "cell_type": "code",
   "execution_count": 61,
   "id": "b17fe04c",
   "metadata": {},
   "outputs": [],
   "source": [
    "train_data = TensorDataset(X_train_mfcc_exp, y_train)\n",
    "train_loader = DataLoader(train_data, batch_size=batch_size, shuffle=True)\n",
    "\n",
    "test_data = TensorDataset(X_test_mfcc_exp, y_test)\n",
    "test_loader = DataLoader(test_data, batch_size=batch_size, shuffle=False)\n"
   ]
  },
  {
   "cell_type": "code",
   "execution_count": 62,
   "id": "6fe5802c",
   "metadata": {},
   "outputs": [
    {
     "data": {
      "text/plain": [
       "(torch.Size([4, 1, 13, 79]), torch.Size([4]))"
      ]
     },
     "execution_count": 62,
     "metadata": {},
     "output_type": "execute_result"
    }
   ],
   "source": [
    "check = next(iter(train_loader))\n",
    "check[0].shape, check[1].shape"
   ]
  },
  {
   "cell_type": "markdown",
   "id": "7c00b913",
   "metadata": {},
   "source": [
    "# Model Architecture"
   ]
  },
  {
   "cell_type": "code",
   "execution_count": 77,
   "id": "702f7a22",
   "metadata": {},
   "outputs": [
    {
     "data": {
      "text/plain": [
       "6944"
      ]
     },
     "execution_count": 77,
     "metadata": {},
     "output_type": "execute_result"
    }
   ],
   "source": [
    "32 * 7 * 31"
   ]
  },
  {
   "cell_type": "code",
   "execution_count": 91,
   "id": "dc892ded",
   "metadata": {},
   "outputs": [],
   "source": [
    "class PD_Classifier(nn.Module):\n",
    "    def __init__(self, num_classes=2):\n",
    "        super(PD_Classifier, self).__init__()\n",
    "        self.conv1 = nn.Conv2d(1, 16, kernel_size=3, padding=1)\n",
    "        self.pool = nn.MaxPool2d(2, 2)\n",
    "        self.conv2 = nn.Conv2d(16, 32, kernel_size=3, padding=1)\n",
    "        self.dropout = nn.Dropout(0.5)  # Add dropout layer to prevent overfitting\n",
    "        self.flatten = nn.Flatten()\n",
    "        self.fc1 = nn.Linear(7488, 64)  # Adjust input size based on your MFCC shape\n",
    "        self.fc2 = nn.Linear(64, 1)\n",
    "        self.relu = nn.ReLU()\n",
    "        self.sigmoid = nn.Sigmoid()\n",
    "\n",
    "    def forward(self, x):\n",
    "        x = self.relu(self.conv1(x))\n",
    "        x = self.pool(x)\n",
    "        x = self.relu(self.conv2(x))\n",
    "        x = self.flatten(x)\n",
    "        x = self.relu(self.fc1(x))\n",
    "        x = self.dropout(x)  # Apply dropout\n",
    "        x = self.fc2(x)\n",
    "        x = self.sigmoid(x)  # Use sigmoid for binary classification\n",
    "        return x\n",
    "\n",
    "# Example usage:\n",
    "# model = PD_Classifier(num_classes=2)\n",
    "# print(model)"
   ]
  },
  {
   "cell_type": "code",
   "execution_count": 92,
   "id": "0bbf5d92",
   "metadata": {},
   "outputs": [
    {
     "data": {
      "text/plain": [
       "PD_Classifier(\n",
       "  (conv1): Conv2d(1, 16, kernel_size=(3, 3), stride=(1, 1), padding=(1, 1))\n",
       "  (pool): MaxPool2d(kernel_size=2, stride=2, padding=0, dilation=1, ceil_mode=False)\n",
       "  (conv2): Conv2d(16, 32, kernel_size=(3, 3), stride=(1, 1), padding=(1, 1))\n",
       "  (dropout): Dropout(p=0.5, inplace=False)\n",
       "  (flatten): Flatten(start_dim=1, end_dim=-1)\n",
       "  (fc1): Linear(in_features=7488, out_features=64, bias=True)\n",
       "  (fc2): Linear(in_features=64, out_features=1, bias=True)\n",
       "  (relu): ReLU()\n",
       "  (sigmoid): Sigmoid()\n",
       ")"
      ]
     },
     "execution_count": 92,
     "metadata": {},
     "output_type": "execute_result"
    }
   ],
   "source": [
    "model = PD_Classifier(num_classes=2)\n",
    "model"
   ]
  },
  {
   "cell_type": "code",
   "execution_count": 69,
   "id": "68dc0c63",
   "metadata": {},
   "outputs": [],
   "source": [
    "# summary(model, (1, 13, 79))"
   ]
  },
  {
   "cell_type": "markdown",
   "id": "99d141c4",
   "metadata": {},
   "source": [
    "# Training"
   ]
  },
  {
   "cell_type": "code",
   "execution_count": 93,
   "id": "811295ee",
   "metadata": {},
   "outputs": [],
   "source": [
    "# Training loop for PD_Classifier (single output neuron, sigmoid activation)\n",
    "num_epochs = 10\n",
    "learning_rate = 0.001\n",
    "\n",
    "device = torch.device('cuda' if torch.cuda.is_available() else 'cpu')\n",
    "model = model.to(device)\n",
    "\n",
    "criterion = nn.BCELoss()\n",
    "optimizer = optim.Adam(model.parameters(), lr=learning_rate)"
   ]
  },
  {
   "cell_type": "code",
   "execution_count": 94,
   "id": "05964216",
   "metadata": {},
   "outputs": [
    {
     "name": "stderr",
     "output_type": "stream",
     "text": [
      " 20%|██        | 2/10 [00:00<00:01,  7.45it/s]"
     ]
    },
    {
     "name": "stdout",
     "output_type": "stream",
     "text": [
      "Epoch 1/10, Loss: 17.6561, Accuracy: 0.5625\n",
      "Epoch 2/10, Loss: 1.6630, Accuracy: 0.6094\n",
      "Epoch 3/10, Loss: 0.6415, Accuracy: 0.6094\n"
     ]
    },
    {
     "name": "stderr",
     "output_type": "stream",
     "text": [
      " 60%|██████    | 6/10 [00:00<00:00, 10.65it/s]"
     ]
    },
    {
     "name": "stdout",
     "output_type": "stream",
     "text": [
      "Epoch 4/10, Loss: 0.5689, Accuracy: 0.7188\n",
      "Epoch 5/10, Loss: 0.4395, Accuracy: 0.8281\n",
      "Epoch 6/10, Loss: 0.4717, Accuracy: 0.8438\n"
     ]
    },
    {
     "name": "stderr",
     "output_type": "stream",
     "text": [
      " 80%|████████  | 8/10 [00:00<00:00, 11.44it/s]"
     ]
    },
    {
     "name": "stdout",
     "output_type": "stream",
     "text": [
      "Epoch 7/10, Loss: 0.2760, Accuracy: 0.9062\n",
      "Epoch 8/10, Loss: 0.2108, Accuracy: 0.9062\n",
      "Epoch 9/10, Loss: 0.2613, Accuracy: 0.8906\n"
     ]
    },
    {
     "name": "stderr",
     "output_type": "stream",
     "text": [
      "100%|██████████| 10/10 [00:00<00:00, 10.61it/s]"
     ]
    },
    {
     "name": "stdout",
     "output_type": "stream",
     "text": [
      "Epoch 10/10, Loss: 0.1954, Accuracy: 0.9375\n"
     ]
    },
    {
     "name": "stderr",
     "output_type": "stream",
     "text": [
      "\n"
     ]
    }
   ],
   "source": [
    "for epoch in tqdm(range(num_epochs)):\n",
    "    model.train()\n",
    "    running_loss = 0.0\n",
    "    correct = 0\n",
    "    total = 0\n",
    "    for inputs, labels in train_loader:\n",
    "        inputs, labels = inputs.to(device), labels.to(device)\n",
    "        labels = labels.float().unsqueeze(1)  # Ensure shape (batch, 1) and float type\n",
    "        optimizer.zero_grad()\n",
    "        outputs = model(inputs)\n",
    "        loss = criterion(outputs, labels)\n",
    "        loss.backward()\n",
    "        optimizer.step()\n",
    "        running_loss += loss.item() * inputs.size(0)\n",
    "        preds = (outputs > 0.5).float()\n",
    "        correct += (preds == labels).sum().item()\n",
    "        total += labels.size(0)\n",
    "    epoch_loss = running_loss / total\n",
    "    epoch_acc = correct / total\n",
    "    print(f'Epoch {epoch+1}/{num_epochs}, Loss: {epoch_loss:.4f}, Accuracy: {epoch_acc:.4f}')"
   ]
  },
  {
   "cell_type": "markdown",
   "id": "11937e65",
   "metadata": {},
   "source": [
    "# Evaluation"
   ]
  },
  {
   "cell_type": "code",
   "execution_count": 95,
   "id": "63087a1b",
   "metadata": {},
   "outputs": [
    {
     "name": "stdout",
     "output_type": "stream",
     "text": [
      "Test Loss: 0.7573, Test Accuracy: 0.5882\n"
     ]
    }
   ],
   "source": [
    "# Evaluation on test set\n",
    "model.eval()\n",
    "test_loss = 0.0\n",
    "test_correct = 0\n",
    "test_total = 0\n",
    "with torch.no_grad():\n",
    "    for inputs, labels in test_loader:\n",
    "        inputs, labels = inputs.to(device), labels.to(device)\n",
    "        labels = labels.float().unsqueeze(1)\n",
    "        outputs = model(inputs)\n",
    "        loss = criterion(outputs, labels)\n",
    "        test_loss += loss.item() * inputs.size(0)\n",
    "        preds = (outputs > 0.5).float()\n",
    "        test_correct += (preds == labels).sum().item()\n",
    "        test_total += labels.size(0)\n",
    "test_loss = test_loss / test_total\n",
    "test_acc = test_correct / test_total\n",
    "print(f'Test Loss: {test_loss:.4f}, Test Accuracy: {test_acc:.4f}')"
   ]
  },
  {
   "cell_type": "code",
   "execution_count": null,
   "id": "89ebf503",
   "metadata": {},
   "outputs": [],
   "source": [
    "# # Training loop for PD_Classifier\n",
    "# num_epochs = 10\n",
    "# learning_rate = 0.001\n",
    "\n",
    "# device = torch.device('cuda' if torch.cuda.is_available() else 'cpu')\n",
    "# model = model.to(device)\n",
    "\n",
    "# criterion = nn.CrossEntropyLoss()\n",
    "# optimizer = optim.Adam(model.parameters(), lr=learning_rate)\n",
    "\n",
    "# for epoch in range(num_epochs):\n",
    "#     model.train()\n",
    "#     running_loss = 0.0\n",
    "#     correct = 0\n",
    "#     total = 0\n",
    "#     for inputs, labels in train_loader:\n",
    "#         inputs, labels = inputs.to(device), labels.to(device)\n",
    "#         optimizer.zero_grad()\n",
    "#         outputs = model(inputs)\n",
    "#         loss = criterion(outputs, labels)\n",
    "#         loss.backward()\n",
    "#         optimizer.step()\n",
    "#         running_loss += loss.item() * inputs.size(0)\n",
    "#         _, predicted = torch.max(outputs, 1)\n",
    "#         correct += (predicted == labels).sum().item()\n",
    "#         total += labels.size(0)\n",
    "#     epoch_loss = running_loss / total\n",
    "#     epoch_acc = correct / total\n",
    "#     print(f'Epoch {epoch+1}/{num_epochs}, Loss: {epoch_loss:.4f}, Accuracy: {epoch_acc:.4f}')"
   ]
  },
  {
   "cell_type": "markdown",
   "id": "84bdca7a",
   "metadata": {},
   "source": [
    "loss = nn."
   ]
  }
 ],
 "metadata": {
  "kernelspec": {
   "display_name": "home",
   "language": "python",
   "name": "python3"
  },
  "language_info": {
   "codemirror_mode": {
    "name": "ipython",
    "version": 3
   },
   "file_extension": ".py",
   "mimetype": "text/x-python",
   "name": "python",
   "nbconvert_exporter": "python",
   "pygments_lexer": "ipython3",
   "version": "3.12.11"
  }
 },
 "nbformat": 4,
 "nbformat_minor": 5
}
