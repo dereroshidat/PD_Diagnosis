{
 "cells": [
  {
   "cell_type": "code",
   "execution_count": null,
   "id": "34f96898",
   "metadata": {},
   "outputs": [],
   "source": [
    "import torch\n",
    "from transformers import AutoFeatureExtractor, HubertModel\n",
    "\n",
    "\n",
    "import numpy as np\n",
    "import librosa\n",
    "import matplotlib.pyplot as plt\n",
    "from sklearn.model_selection import train_test_split\n",
    "\n",
    "import os\n",
    "import librosa.display\n",
    "\n",
    "\n",
    "import torch\n",
    "import torch.nn as nn\n",
    "import torch.optim as optim\n",
    "from torch.utils.data import DataLoader, TensorDataset\n",
    "\n",
    "from torchsummary import summary\n",
    "from tqdm import tqdm"
   ]
  },
  {
   "cell_type": "markdown",
   "id": "3ebb07cc",
   "metadata": {},
   "source": [
    "# HC_AH Features Extraction"
   ]
  },
  {
   "cell_type": "code",
   "execution_count": null,
   "id": "5a97e6db",
   "metadata": {},
   "outputs": [],
   "source": [
    "path = \"/mnt/c/Users/user/Desktop/Roshidat/Workspace/PD_prediction/data/1_data/HC_AH\"\n",
    "dirc = os.listdir(path)\n",
    "dirc"
   ]
  },
  {
   "cell_type": "code",
   "execution_count": null,
   "id": "949d5fba",
   "metadata": {},
   "outputs": [],
   "source": [
    "file_path = os.path.join(path, dirc[0])\n",
    "loaded_file, _ = librosa.load(file_path, sr=8000)\n",
    "\n",
    "loaded_file.shape"
   ]
  },
  {
   "cell_type": "code",
   "execution_count": null,
   "id": "36868534",
   "metadata": {},
   "outputs": [],
   "source": [
    "device = 'cuda' if torch.cuda.is_available() else 'cpu'\n",
    "model_name=\"facebook/hubert-base-ls960\"\n",
    "feature_extractor = AutoFeatureExtractor.from_pretrained(model_name)\n",
    "model = HubertModel.from_pretrained(model_name).to(device).eval()"
   ]
  },
  {
   "cell_type": "code",
   "execution_count": null,
   "id": "cce55b1d",
   "metadata": {},
   "outputs": [],
   "source": [
    "model"
   ]
  },
  {
   "cell_type": "code",
   "execution_count": null,
   "id": "cc89fb93",
   "metadata": {},
   "outputs": [],
   "source": [
    "inputs = feature_extractor(\n",
    "    torch.tensor(loaded_file),\n",
    "    sampling_rate=16000,\n",
    "    return_tensors=\"pt\",\n",
    "    padding=True\n",
    ")\n",
    "input_values = inputs[\"input_values\"].to(device)"
   ]
  },
  {
   "cell_type": "code",
   "execution_count": null,
   "id": "0cc27482",
   "metadata": {},
   "outputs": [],
   "source": [
    "output = model(input_values, output_hidden_states=True)"
   ]
  },
  {
   "cell_type": "code",
   "execution_count": null,
   "id": "4a27e987",
   "metadata": {},
   "outputs": [],
   "source": [
    "output.hidden_states[0].shape"
   ]
  },
  {
   "cell_type": "code",
   "execution_count": null,
   "id": "5ada0239",
   "metadata": {},
   "outputs": [],
   "source": [
    "output.hidden_states[-2].shape"
   ]
  },
  {
   "cell_type": "code",
   "execution_count": null,
   "id": "f200bc04",
   "metadata": {},
   "outputs": [],
   "source": [
    "total_layers = len(output.hidden_states )\n",
    "print(total_layers)"
   ]
  },
  {
   "cell_type": "code",
   "execution_count": null,
   "id": "3807e3da",
   "metadata": {},
   "outputs": [],
   "source": [
    "output.hidden_states"
   ]
  },
  {
   "cell_type": "markdown",
   "id": "f26a9a3f",
   "metadata": {},
   "source": [
    "# PD_AH Features Extraction"
   ]
  },
  {
   "cell_type": "code",
   "execution_count": null,
   "id": "75f7c391",
   "metadata": {},
   "outputs": [],
   "source": [
    "pd_path = \"/mnt/c/Users/user/Desktop/Roshidat/Workspace/PD_prediction/data/1_data/PD_AH\"\n",
    "dirc = os.listdir(pd_path)"
   ]
  },
  {
   "cell_type": "code",
   "execution_count": null,
   "id": "8fcf5fe8",
   "metadata": {},
   "outputs": [],
   "source": [
    "pd_file_path = os.path.join(pd_path, dirc[0])\n",
    "pd_loaded_file, _ = librosa.load(pd_file_path, sr=8000)\n",
    "pd_loaded_file.shape"
   ]
  },
  {
   "cell_type": "code",
   "execution_count": null,
   "id": "89a23371",
   "metadata": {},
   "outputs": [],
   "source": [
    "pd_inputs = feature_extractor(\n",
    "    torch.tensor(pd_loaded_file),\n",
    "    sampling_rate=16000,\n",
    "    return_tensors=\"pt\",\n",
    "    padding=True\n",
    ")\n",
    "pd_input_values = pd_inputs[\"input_values\"].to(device)"
   ]
  },
  {
   "cell_type": "code",
   "execution_count": null,
   "id": "03a1983e",
   "metadata": {},
   "outputs": [],
   "source": [
    "pd_outputs = model(pd_input_values, output_hidden_states=True)"
   ]
  },
  {
   "cell_type": "code",
   "execution_count": null,
   "id": "1fbeff26",
   "metadata": {},
   "outputs": [],
   "source": [
    "pd_outputs.hidden_states[0]"
   ]
  },
  {
   "cell_type": "code",
   "execution_count": null,
   "id": "7f707939",
   "metadata": {},
   "outputs": [],
   "source": [
    "pd_outputs.hidden_states[0].shape"
   ]
  },
  {
   "cell_type": "code",
   "execution_count": null,
   "id": "36cf56b3",
   "metadata": {},
   "outputs": [],
   "source": [
    "pd_outputs.hidden_states[-1].shape"
   ]
  },
  {
   "cell_type": "code",
   "execution_count": null,
   "id": "58eaceb4",
   "metadata": {},
   "outputs": [],
   "source": []
  },
  {
   "cell_type": "code",
   "execution_count": null,
   "id": "7e59e428",
   "metadata": {},
   "outputs": [],
   "source": [
    " "
   ]
  },
  {
   "cell_type": "code",
   "execution_count": 1,
   "id": "6bd08227",
   "metadata": {},
   "outputs": [],
   "source": [
    "import numpy as np"
   ]
  },
  {
   "cell_type": "code",
   "execution_count": 2,
   "id": "36418643",
   "metadata": {},
   "outputs": [],
   "source": [
    "X_path = '/mnt/c/Users/user/Desktop/Roshidat/Workspace/PD_prediction/data/1_data/hubert_feature_extracted/X_hubert_2_layer.npy'\n",
    "y_path = '/mnt/c/Users/user/Desktop/Roshidat/Workspace/PD_prediction/data/1_data/hubert_feature_extracted/y_hubert_2_layer.npy'\n",
    "\n",
    "X = np.load(X_path)\n",
    "y = np.load(y_path)"
   ]
  },
  {
   "cell_type": "code",
   "execution_count": 3,
   "id": "a0dd188b",
   "metadata": {},
   "outputs": [
    {
     "data": {
      "text/plain": [
       "((81, 768), (81,))"
      ]
     },
     "execution_count": 3,
     "metadata": {},
     "output_type": "execute_result"
    }
   ],
   "source": [
    "X.shape, y.shape"
   ]
  },
  {
   "cell_type": "code",
   "execution_count": null,
   "id": "60fe2b58",
   "metadata": {},
   "outputs": [],
   "source": []
  }
 ],
 "metadata": {
  "kernelspec": {
   "display_name": "home",
   "language": "python",
   "name": "python3"
  },
  "language_info": {
   "codemirror_mode": {
    "name": "ipython",
    "version": 3
   },
   "file_extension": ".py",
   "mimetype": "text/x-python",
   "name": "python",
   "nbconvert_exporter": "python",
   "pygments_lexer": "ipython3",
   "version": "3.12.11"
  }
 },
 "nbformat": 4,
 "nbformat_minor": 5
}
